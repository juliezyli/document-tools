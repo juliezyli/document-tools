{
 "cells": [
  {
   "cell_type": "code",
   "execution_count": 1,
   "id": "116e89bf",
   "metadata": {},
   "outputs": [
    {
     "name": "stdout",
     "output_type": "stream",
     "text": [
      "Collecting PyPDF2\n",
      "  Using cached pypdf2-3.0.1-py3-none-any.whl.metadata (6.8 kB)\n",
      "Collecting pymongo\n",
      "  Downloading pymongo-4.13.2-cp313-cp313-macosx_11_0_arm64.whl.metadata (22 kB)\n",
      "Collecting dnspython<3.0.0,>=1.16.0 (from pymongo)\n",
      "  Using cached dnspython-2.7.0-py3-none-any.whl.metadata (5.8 kB)\n",
      "Using cached pypdf2-3.0.1-py3-none-any.whl (232 kB)\n",
      "Downloading pymongo-4.13.2-cp313-cp313-macosx_11_0_arm64.whl (965 kB)\n",
      "\u001b[2K   \u001b[90m━━━━━━━━━━━━━━━━━━━━━━━━━━━━━━━━━━━━━━━━\u001b[0m \u001b[32m965.9/965.9 kB\u001b[0m \u001b[31m6.0 MB/s\u001b[0m eta \u001b[36m0:00:00\u001b[0m\n",
      "\u001b[?25hUsing cached dnspython-2.7.0-py3-none-any.whl (313 kB)\n",
      "Installing collected packages: PyPDF2, dnspython, pymongo\n",
      "\u001b[2K   \u001b[90m━━━━━━━━━━━━━━━━━━━━━━━━━━━━━━━━━━━━━━━━\u001b[0m \u001b[32m3/3\u001b[0m [pymongo]m2/3\u001b[0m [pymongo]n]\n",
      "\u001b[1A\u001b[2KSuccessfully installed PyPDF2-3.0.1 dnspython-2.7.0 pymongo-4.13.2\n",
      "Note: you may need to restart the kernel to use updated packages.\n"
     ]
    }
   ],
   "source": [
    "%pip install PyPDF2 pymongo "
   ]
  },
  {
   "cell_type": "code",
   "execution_count": 1,
   "id": "4b5fffd2",
   "metadata": {},
   "outputs": [],
   "source": [
    "import PyPDF2\n",
    "from pymongo import MongoClient\n",
    "import re"
   ]
  },
  {
   "cell_type": "code",
   "execution_count": 2,
   "id": "cbf3420c",
   "metadata": {},
   "outputs": [],
   "source": [
    "# extracting text from input pdf\n",
    "def extract_text_from_pdf(pdf_path):\n",
    "    text = \"\"\n",
    "    try:\n",
    "        with open(pdf_path, 'rb') as file:\n",
    "            pdf_reader = PyPDF2.PdfReader(file)\n",
    "            for page in pdf_reader.pages:\n",
    "                text += page.extract_text()\n",
    "        return text\n",
    "    except Exception as e:\n",
    "        print(f\"Error extracting text from PDF: {str(e)}\")\n",
    "        return None\n",
    "\n",
    "# before sentence splitting, removes whitespace and distracting special characters \n",
    "def clean_text(text):\n",
    "    if text is None:\n",
    "        return None\n",
    "    text = re.sub(r'\\s+', ' ', text)\n",
    "    text = text.replace('\\n', ' ').strip()\n",
    "    return text\n",
    "\n",
    "# clean up sentence splitting \n",
    "def custom_sentence_split(text):\n",
    "    if not text:\n",
    "        return []\n",
    "    sentences = re.split(r'(?<![A-Z][a-z]\\.)(?<![A-Z]\\.)(?<=\\.|\\?|\\!)\\s+(?=[A-Z])', text)\n",
    "    sentences = [s.strip() for s in sentences if s.strip()]\n",
    "    return sentences\n",
    "\n",
    "def store_sentences_in_mongodb(sentences, pdf_filename):\n",
    "    try:\n",
    "        client = MongoClient('mongodb://localhost:27017/')\n",
    "        db = client['pdf_database']\n",
    "        collection = db['sentences']\n",
    "\n",
    "        documents = []\n",
    "        for index, sentence in enumerate(sentences):\n",
    "            doc = {\n",
    "                'pdf_filename': pdf_filename,\n",
    "                'sentence_index': index,\n",
    "                'sentence_text': sentence,\n",
    "                'page_number': None\n",
    "            }\n",
    "            documents.append(doc)\n",
    "        result = collection.insert_many(documents)\n",
    "        print(f\"Successfully stored {len(result.inserted_ids)} sentences in MongoDB\")\n",
    "        return result.inserted_ids\n",
    "    except Exception as e:\n",
    "        print(f\"Error storing sentences in MongoDB: {str(e)}\")\n",
    "    finally:\n",
    "        client.close()"
   ]
  },
  {
   "cell_type": "code",
   "execution_count": 4,
   "id": "8ea47e44",
   "metadata": {},
   "outputs": [
    {
     "name": "stdout",
     "output_type": "stream",
     "text": [
      "Testing sentence splitting:\n",
      "1. This is a test sentence.\n",
      "2. This is another test sentence!\n",
      "3. Is this working?\n",
      "4. Dr. Li went to the store.\n",
      "5. Mr. Jones was there too.\n"
     ]
    }
   ],
   "source": [
    "# test with small example\n",
    "test_text = \"This is a test sentence. This is another test sentence! Is this working? Dr. Li went to the store. Mr. Jones was there too.\"\n",
    "print(\"Testing sentence splitting:\")\n",
    "test_sentences = custom_sentence_split(test_text)\n",
    "for i, sentence in enumerate(test_sentences, 1):\n",
    "    print(f\"{i}. {sentence}\")"
   ]
  },
  {
   "cell_type": "code",
   "execution_count": null,
   "id": "abbaaf6d",
   "metadata": {},
   "outputs": [],
   "source": [
    "# process PDF file (REPLACE THE FILENAME)\n",
    "pdf_path = 'REPLACE.pdf'\n",
    "\n",
    "text = extract_text_from_pdf(pdf_path)\n",
    "cleaned_text = clean_text(text)\n",
    "\n",
    "sentences = custom_sentence_split(cleaned_text)\n",
    "\n",
    "print(\"\\nFirst 5 sentences from PDF:\")\n",
    "for i, sentence in enumerate(sentences[:5]):\n",
    "    print(f\"{i+1}. {sentence}\")"
   ]
  },
  {
   "cell_type": "code",
   "execution_count": null,
   "id": "dca3627a",
   "metadata": {},
   "outputs": [],
   "source": [
    "# store in mongoDB\n",
    "def test_mongodb():\n",
    "    try: \n",
    "        client = MongoClient('mongodb://localhost:27017/', serverSelectionTimeoutMS=2000)\n",
    "        client.server_info()\n",
    "        print(\"MongoDB connection worked!\")\n",
    "        return True \n",
    "    except Exception as e:\n",
    "        print(f\"MongoDB connection didn't work: {str(e)}\")\n",
    "        return False\n",
    "\n",
    "if test_mongodb():\n",
    "    inserted_ids = store_sentences_in_mongodb(sentences, pdf_path)"
   ]
  },
  {
   "cell_type": "code",
   "execution_count": null,
   "id": "484a1049",
   "metadata": {},
   "outputs": [],
   "source": [
    "# check stored data \n",
    "def verify_stored_data(pdf_filename, limit=5):\n",
    "    try:\n",
    "        client = MongoClient('mongodb://localhost:27017')\n",
    "        db = client['pdf_database']\n",
    "        collection = db['sentences']\n",
    "\n",
    "        stored_sentences = collection.find({'pdf_filename': pdf_filename}).limit(limit)\n",
    "        print(f\"\\nFirst {limit} stored sentences from MongoDB:\")\n",
    "        for i, doc in enumerate(stored_sentences, 1):\n",
    "            print(f\"{i}. {doc['sentence_text']}\")\n",
    "\n",
    "    except Exception as e:\n",
    "        print(f\"Error querying MongoDB: {str(e)}\")\n",
    "    finally: \n",
    "        client.close()\n",
    "\n",
    "verify_stored_data(pdf_path)"
   ]
  }
 ],
 "metadata": {
  "kernelspec": {
   "display_name": "Python 3",
   "language": "python",
   "name": "python3"
  },
  "language_info": {
   "codemirror_mode": {
    "name": "ipython",
    "version": 3
   },
   "file_extension": ".py",
   "mimetype": "text/x-python",
   "name": "python",
   "nbconvert_exporter": "python",
   "pygments_lexer": "ipython3",
   "version": "3.13.4"
  }
 },
 "nbformat": 4,
 "nbformat_minor": 5
}
