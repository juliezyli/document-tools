{
 "cells": [
  {
   "cell_type": "code",
   "execution_count": null,
   "id": "5ac51c61",
   "metadata": {},
   "outputs": [
    {
     "name": "stdout",
     "output_type": "stream",
     "text": [
      "Collecting python-docx\n",
      "  Downloading python_docx-1.2.0-py3-none-any.whl.metadata (2.0 kB)\n",
      "Collecting PyMuPDF\n",
      "  Downloading pymupdf-1.26.1-cp39-abi3-macosx_11_0_arm64.whl.metadata (3.4 kB)\n",
      "Collecting lxml>=3.1.0 (from python-docx)\n",
      "  Downloading lxml-5.4.0-cp313-cp313-macosx_10_13_universal2.whl.metadata (3.5 kB)\n",
      "Requirement already satisfied: typing_extensions>=4.9.0 in /Library/Frameworks/Python.framework/Versions/3.13/lib/python3.13/site-packages (from python-docx) (4.14.0)\n",
      "Downloading python_docx-1.2.0-py3-none-any.whl (252 kB)\n",
      "Downloading pymupdf-1.26.1-cp39-abi3-macosx_11_0_arm64.whl (22.4 MB)\n",
      "\u001b[2K   \u001b[90m━━━━━━━━━━━━━━━━━━━━━━━━━━━━━━━━━━━━━━━━\u001b[0m \u001b[32m22.4/22.4 MB\u001b[0m \u001b[31m4.4 MB/s\u001b[0m eta \u001b[36m0:00:00\u001b[0ma \u001b[36m0:00:01\u001b[0m\n",
      "\u001b[?25hDownloading lxml-5.4.0-cp313-cp313-macosx_10_13_universal2.whl (8.1 MB)\n",
      "\u001b[2K   \u001b[90m━━━━━━━━━━━━━━━━━━━━━━━━━━━━━━━━━━━━━━━━\u001b[0m \u001b[32m8.1/8.1 MB\u001b[0m \u001b[31m5.2 MB/s\u001b[0m eta \u001b[36m0:00:00\u001b[0ma \u001b[36m0:00:01\u001b[0m\n",
      "\u001b[?25hInstalling collected packages: PyMuPDF, lxml, python-docx\n",
      "\u001b[2K   \u001b[90m━━━━━━━━━━━━━━━━━━━━━━━━━━━━━━━━━━━━━━━━\u001b[0m \u001b[32m3/3\u001b[0m [python-docx]\u001b[0m [python-docx]\n",
      "\u001b[1A\u001b[2KSuccessfully installed PyMuPDF-1.26.1 lxml-5.4.0 python-docx-1.2.0\n",
      "Note: you may need to restart the kernel to use updated packages.\n"
     ]
    }
   ],
   "source": [
    "%pip install python-docx PyMuPDF"
   ]
  },
  {
   "cell_type": "code",
   "execution_count": 1,
   "id": "c845369b",
   "metadata": {},
   "outputs": [],
   "source": [
    "import os\n",
    "import fitz  \n",
    "import docx\n",
    "from IPython.display import display\n",
    "from tkinter import Tk, filedialog"
   ]
  },
  {
   "cell_type": "code",
   "execution_count": null,
   "id": "bcd7ca44",
   "metadata": {},
   "outputs": [],
   "source": [
    "# select file type\n",
    "def select_file():\n",
    "    root = Tk()\n",
    "    root.withdraw()\n",
    "    file_path = filedialog.askopenfilename(\n",
    "        title=\"Select a Document\",\n",
    "        filetypes=[(\"Text Files\", \"*.txt\"), (\"PDF Files\", \"*.pdf\"), (\"Word Files\", \"*.docx\")]\n",
    "    )\n",
    "    return file_path"
   ]
  },
  {
   "cell_type": "code",
   "execution_count": null,
   "id": "01742e16",
   "metadata": {},
   "outputs": [],
   "source": [
    "# extract text from file\n",
    "def extract_text(file_path):\n",
    "    _, ext = os.path.splitext(file_path)\n",
    "    ext = ext.lower()\n",
    "    text = \"\"\n",
    "\n",
    "    if ext == \".txt\":\n",
    "        with open(file_path, 'r', encoding='utf-8') as f:\n",
    "            text = f.read()\n",
    "\n",
    "    elif ext == \".pdf\":\n",
    "        doc = fitz.open(file_path)\n",
    "        for page in doc:\n",
    "            text += page.get_text()\n",
    "\n",
    "    elif ext == \".docx\":\n",
    "        doc = docx.Document(file_path)\n",
    "        for para in doc.paragraphs:\n",
    "            text += para.text + '\\n'\n",
    "\n",
    "    else:\n",
    "        raise ValueError(\"Unsupported file type.\")\n",
    "    \n",
    "    return text"
   ]
  },
  {
   "cell_type": "code",
   "execution_count": null,
   "id": "8e6b34ce",
   "metadata": {},
   "outputs": [],
   "source": [
    "# searches for word\n",
    "def search_word(text, word):\n",
    "    word_lower = word.lower()\n",
    "    words = text.split()\n",
    "    count = sum(1 for w in words if word_lower in w.lower())\n",
    "\n",
    "    context = []\n",
    "    for i, w in enumerate(words):\n",
    "        if word_lower in w.lower():\n",
    "            start = max(i - 3, 0)\n",
    "            end = min(i + 4, len(words))\n",
    "            context.append(\" \".join(words[start:end]))\n",
    "\n",
    "    return count, context"
   ]
  },
  {
   "cell_type": "code",
   "execution_count": null,
   "id": "d24edb50",
   "metadata": {},
   "outputs": [
    {
     "name": "stdout",
     "output_type": "stream",
     "text": [
      "\n",
      "The word '' appears 2155 time(s) in the document.\n",
      "\n",
      "Some context snippets:\n",
      "... YOUNG DEFENCE SCIENTISTS PROGRAMME ...\n",
      "... YOUNG DEFENCE SCIENTISTS PROGRAMME HYBRID ...\n",
      "... YOUNG DEFENCE SCIENTISTS PROGRAMME HYBRID SCIENCE ...\n",
      "... YOUNG DEFENCE SCIENTISTS PROGRAMME HYBRID SCIENCE AND ...\n",
      "... DEFENCE SCIENTISTS PROGRAMME HYBRID SCIENCE AND TECHNOLOGY ...\n",
      "... SCIENTISTS PROGRAMME HYBRID SCIENCE AND TECHNOLOGY CAMP ...\n",
      "... PROGRAMME HYBRID SCIENCE AND TECHNOLOGY CAMP 20 ...\n",
      "... HYBRID SCIENCE AND TECHNOLOGY CAMP 20 TO ...\n",
      "... SCIENCE AND TECHNOLOGY CAMP 20 TO 24 ...\n",
      "... AND TECHNOLOGY CAMP 20 TO 24 JUN ...\n"
     ]
    }
   ],
   "source": [
    "file_path = select_file()\n",
    "text = extract_text(file_path)\n",
    "\n",
    "search_term = input(\"Enter the word to search for: \")\n",
    "count, context_snippets = search_word(text, search_term)\n",
    "\n",
    "print(f\"\\nThe word '{search_term}' appears {count} time(s) in the document.\\n\")\n",
    "print(\"Some context snippets:\")\n",
    "\n",
    "for snippet in context_snippets[:10]:  \n",
    "    print(\"... \" + snippet + \" ...\") "
   ]
  }
 ],
 "metadata": {
  "kernelspec": {
   "display_name": "Python 3",
   "language": "python",
   "name": "python3"
  },
  "language_info": {
   "codemirror_mode": {
    "name": "ipython",
    "version": 3
   },
   "file_extension": ".py",
   "mimetype": "text/x-python",
   "name": "python",
   "nbconvert_exporter": "python",
   "pygments_lexer": "ipython3",
   "version": "3.13.4"
  }
 },
 "nbformat": 4,
 "nbformat_minor": 5
}
